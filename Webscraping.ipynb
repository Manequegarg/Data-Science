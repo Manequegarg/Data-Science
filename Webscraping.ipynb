{
  "nbformat": 4,
  "nbformat_minor": 0,
  "metadata": {
    "colab": {
      "name": "Webscraping.ipynb",
      "version": "0.3.2",
      "provenance": [],
      "collapsed_sections": [],
      "include_colab_link": true
    },
    "kernelspec": {
      "name": "python3",
      "display_name": "Python 3"
    }
  },
  "cells": [
    {
      "cell_type": "markdown",
      "metadata": {
        "id": "view-in-github",
        "colab_type": "text"
      },
      "source": [
        "<a href=\"https://colab.research.google.com/github/Manequegarg/Python/blob/master/Webscraping.ipynb\" target=\"_parent\"><img src=\"https://colab.research.google.com/assets/colab-badge.svg\" alt=\"Open In Colab\"/></a>"
      ]
    },
    {
      "metadata": {
        "id": "WyVOD8SadYPu",
        "colab_type": "code",
        "outputId": "febda136-a25a-4fdd-ce5b-d5ca234b4a29",
        "colab": {
          "base_uri": "https://localhost:8080/",
          "height": 54
        }
      },
      "cell_type": "code",
      "source": [
        "import requests\n",
        "from bs4 import BeautifulSoup as bsoup\n",
        "url = 'http://www.grover.com/de-en/phones-and-tablets/smartphones'\n",
        "# Html parsing\n",
        "page = requests.get(url)\n",
        "soup = bsoup(page.text, \"html.parser\")\n",
        "# Fetching Data\n",
        "containers =soup.findAll(\"div\",{\"class\":\"categoryListingGridItem\"})\n",
        "Bla=containers[0]\n",
        "print(Bla)"
      ],
      "execution_count": 0,
      "outputs": [
        {
          "output_type": "stream",
          "text": [
            "<div class=\"categoryListingGridItem categoryListingGridItem--t_w50\" data-reactid=\"315\" to=\"/products/galaxy-s10e\"><div class=\"categoryListingGridItem__wrap\" data-reactid=\"316\"><div data-reactid=\"317\"><a class=\"\" data-reactid=\"318\" href=\"/de-en/products/galaxy-s10e\"><div class=\"productCard\" data-reactid=\"319\"><div class=\"productCard__wrap\" data-reactid=\"320\"><div class=\"productCard__badges\" data-reactid=\"321\"><div class=\"productBadge productBadge--type-promotional\" data-reactid=\"322\"><div class=\"productBadge__text\" data-reactid=\"323\">UP TO 4 MONTHS FREE</div></div></div><div class=\"productCard__image\" data-reactid=\"324\"><div data-reactid=\"325\" style=\"background-image:url(https://res-4.cloudinary.com/grover/image/upload/e_trim/c_fit,h_222,w_370/c_lpad,f_auto,h_445,q_auto,w_740/v1550691654/fmm6h8kcdqdbvoqufmyw.png);\"></div></div><div class=\"productCard__content\" data-reactid=\"326\"><div class=\"productCard__name\" data-reactid=\"327\">Samsung Galaxy S10e</div><div class=\"productCard__caption\" data-reactid=\"328\">128GB, 5.8\", 28MP Dual Rear Camera, 10MP Front Camera</div></div><div class=\"productCard__priceWrap\" data-reactid=\"329\"><div class=\"productCard__price\" data-reactid=\"330\">From</div><div class=\"productCard__price \" data-reactid=\"331\"><div class=\"storeShowPrice\" data-reactid=\"332\"><!-- react-text: 333 -->44,90<!-- /react-text --><!-- react-text: 334 --> <!-- /react-text --><!-- react-text: 335 -->€<!-- /react-text --></div><span class=\"productCard__price-month\" data-reactid=\"336\">/month</span></div></div><div class=\"productCard__controls\" data-reactid=\"337\"><button class=\"subscribe_cta getgroverButton getgroverButton--primary\" data-reactid=\"338\"><div class=\"getgroverButton__wrap\" data-reactid=\"339\"><div class=\"getgroverButton__arrow\" data-reactid=\"340\"></div><!-- react-text: 341 -->View product<!-- /react-text --></div></button></div></div></div></a></div></div></div>\n"
          ],
          "name": "stdout"
        }
      ]
    },
    {
      "metadata": {
        "id": "jkFhuoyb0TDi",
        "colab_type": "code",
        "outputId": "b73b4b5a-96ad-4410-aba9-2aeccc5bd10f",
        "colab": {
          "base_uri": "https://localhost:8080/",
          "height": 34
        }
      },
      "cell_type": "code",
      "source": [
        "filename = \"products.csv\"\n",
        "f= open(filename, \"w\")\n",
        "header= \"Name; Details; Price\\n\"\n",
        "f.write(header)"
      ],
      "execution_count": 0,
      "outputs": [
        {
          "output_type": "execute_result",
          "data": {
            "text/plain": [
              "21"
            ]
          },
          "metadata": {
            "tags": []
          },
          "execution_count": 42
        }
      ]
    },
    {
      "metadata": {
        "id": "MUhj03dP6UOk",
        "colab_type": "code",
        "outputId": "8b2272c5-6d37-4d24-c0a3-4451e451920c",
        "colab": {
          "base_uri": "https://localhost:8080/",
          "height": 622
        }
      },
      "cell_type": "code",
      "source": [
        "\n",
        "for Product in containers:\n",
        " try:\n",
        "  Name = Product.find('div', {\"class\" : \"productCard__name\"})\n",
        "  Product_Name = Name.string\n",
        "  #\n",
        "  Details = Product.find('div',{\"class\":\"productCard__caption\"})\n",
        "  Product_Details = Details.string\n",
        "  #\n",
        "  Price = Product.find('div',{\"class\":\"storeShowPrice\"})\n",
        "  Product_Price = Price.text\n",
        "  #\n",
        "  print(Product_Name)\n",
        "  print(Product_Details)\n",
        "  print(Product_Price)\n",
        "  f.write(Product_Name + \";\" + Product_Details + \";\" + Product_Price + \"\\n\") \n",
        " except (IOError, AttributeError):\n",
        "  pass\n",
        "\n",
        "f.close()"
      ],
      "execution_count": 0,
      "outputs": [
        {
          "output_type": "stream",
          "text": [
            "Samsung Galaxy S10e\n",
            "128GB, 5.8\", 28MP Dual Rear Camera, 10MP Front Camera\n",
            "44,90 €\n",
            "Samsung Galaxy S10\n",
            "128GB, 6.2\", 40MP Triple Rear Camera, 10MP Front Camera\n",
            "59,90 €\n",
            "Samsung Galaxy S10+\n",
            "512GB, 6.4\", 40MP Triple Rear Camera, 18MP Dual Front Camera\n",
            "79,90 €\n",
            "Samsung Galaxy S9\n",
            "64 GB, 12MP, 5.8\"\n",
            "29,90 €\n",
            "Apple iPhone Xs\n",
            "64GB, 12MP, 5.8\"\n",
            "59,90 €\n",
            "Samsung Galaxy S9+ Dual SIM\n",
            "64GB, 12MP, 6\"\n",
            "39,90 €\n",
            "Apple iPhone Xs Max\n",
            "256GB, 12MP, 6.5\"\n",
            "89,90 €\n",
            "Apple iPhone Xs Max\n",
            "64GB, 12MP, 6.5\"\n",
            "69,90 €\n",
            "Apple iPhone Xs\n",
            "256GB, 12MP, 5.8\"\n",
            "79,90 €\n",
            "Apple iPhone Xr\n",
            "64GB, 12MP, 6.1\"\n",
            "49,90 €\n",
            "One Plus 6T\n",
            "128GB, 16 + 20MP Dual Camera, 6.4\"\n",
            "39,90 €\n",
            "Apple iPhone 8\n",
            "64GB, 12MP, 4.7\"\n",
            "39,90 €\n"
          ],
          "name": "stdout"
        }
      ]
    },
    {
      "metadata": {
        "id": "mISdhdZBLt1q",
        "colab_type": "code",
        "colab": {}
      },
      "cell_type": "code",
      "source": [
        "from google.colab import files\n",
        "files.download(\"products.csv\")"
      ],
      "execution_count": 0,
      "outputs": []
    }
  ]
}