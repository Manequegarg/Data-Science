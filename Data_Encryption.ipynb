{
  "nbformat": 4,
  "nbformat_minor": 0,
  "metadata": {
    "colab": {
      "name": "Data Encryption.ipynb",
      "version": "0.3.2",
      "provenance": [],
      "include_colab_link": true
    },
    "kernelspec": {
      "name": "python3",
      "display_name": "Python 3"
    }
  },
  "cells": [
    {
      "cell_type": "markdown",
      "metadata": {
        "id": "view-in-github",
        "colab_type": "text"
      },
      "source": [
        "<a href=\"https://colab.research.google.com/github/Manequegarg/Python/blob/master/Data_Encryption.ipynb\" target=\"_parent\"><img src=\"https://colab.research.google.com/assets/colab-badge.svg\" alt=\"Open In Colab\"/></a>"
      ]
    },
    {
      "metadata": {
        "id": "PaSZlgaC9VF8",
        "colab_type": "code",
        "colab": {}
      },
      "cell_type": "code",
      "source": [
        "# note - gpg needs to be installed first:\n",
        "# brew install gpg\n",
        "# apt install gpg\n",
        "\n",
        "# you may need to also:\n",
        "# export GPG_TTY=$(tty)\n",
        "\n",
        "!pip install python-gnupg\n",
        "import gnupg\n",
        "\n",
        "gpg = gnupg.GPG()\n",
        "\n"
      ],
      "execution_count": 0,
      "outputs": []
    },
    {
      "metadata": {
        "id": "WF9PA2cKMFXl",
        "colab_type": "code",
        "colab": {}
      },
      "cell_type": "code",
      "source": [
        "# generate key\n",
        "input_data = gpg.gen_key_input(\n",
        "    name_email='me@email.com',\n",
        "    passphrase='passphrase',\n",
        ")\n",
        "key = gpg.gen_key(input_data)\n",
        "print(key)\n",
        "\n"
      ],
      "execution_count": 0,
      "outputs": []
    },
    {
      "metadata": {
        "id": "aAE75atMMPuv",
        "colab_type": "code",
        "colab": {}
      },
      "cell_type": "code",
      "source": [
        "# create ascii-readable versions of pub / private keys\n",
        "ascii_armored_public_keys = gpg.export_keys(key.fingerprint)\n",
        "ascii_armored_private_keys = gpg.export_keys(\n",
        "    keyids=key.fingerprint,\n",
        "    secret=True,\n",
        "    passphrase='passphrase',\n",
        ")\n",
        "\n",
        "# export\n",
        "with open('mykeyfile.asc', 'w') as f:\n",
        "    f.write(ascii_armored_public_keys)\n",
        "    f.write(ascii_armored_private_keys)\n",
        "\n",
        "# import\n",
        "with open('mykeyfile.asc') as f:\n",
        "    key_data = f.read()\n",
        "import_result = gpg.import_keys(key_data)\n",
        "\n",
        "for k in import_result.results:\n",
        "    print(k)\n",
        "\n",
        "# encrypt file\n",
        "with open('plain.txt', 'rb') as f:\n",
        "    status = gpg.encrypt_file(\n",
        "        file=f,\n",
        "        recipients=['manik@email.com'],\n",
        "        output='encrypted.txt.gpg',\n",
        "    )\n",
        "\n",
        "print(status.ok)\n",
        "print(status.status)\n",
        "print(status.stderr)\n",
        "print('~'*50)\n",
        "\n",
        "# decrypt file\n",
        "with open('encrypted.txt.gpg', 'rb') as f:\n",
        "    status = gpg.decrypt_file(\n",
        "        file=f,\n",
        "        passphrase='passphrase',\n",
        "        output='decrypted.txt',\n",
        "    )\n",
        "\n",
        "print(status.ok)\n",
        "print(status.status)\n",
        "print(status.stderr)"
      ],
      "execution_count": 0,
      "outputs": []
    }
  ]
}